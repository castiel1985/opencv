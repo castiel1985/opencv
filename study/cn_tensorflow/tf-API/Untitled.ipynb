{
 "cells": [
  {
   "cell_type": "code",
   "execution_count": 2,
   "metadata": {},
   "outputs": [
    {
     "ename": "TypeError",
     "evalue": "slice indices must be integers or None or have an __index__ method",
     "output_type": "error",
     "traceback": [
      "\u001b[0;31m---------------------------------------------------------------------------\u001b[0m",
      "\u001b[0;31mTypeError\u001b[0m                                 Traceback (most recent call last)",
      "\u001b[0;32m<ipython-input-2-7de9ac08b1d4>\u001b[0m in \u001b[0;36m<module>\u001b[0;34m()\u001b[0m\n\u001b[1;32m     29\u001b[0m \u001b[0;31m# 训练模型\u001b[0m\u001b[0;34m\u001b[0m\u001b[0;34m\u001b[0m\u001b[0m\n\u001b[1;32m     30\u001b[0m \u001b[0mcutoff\u001b[0m \u001b[0;34m=\u001b[0m \u001b[0;36m.9\u001b[0m \u001b[0;34m*\u001b[0m \u001b[0mlen\u001b[0m\u001b[0;34m(\u001b[0m\u001b[0msunspots\u001b[0m\u001b[0;34m)\u001b[0m\u001b[0;34m\u001b[0m\u001b[0m\n\u001b[0;32m---> 31\u001b[0;31m \u001b[0mparams\u001b[0m \u001b[0;34m=\u001b[0m \u001b[0mfit\u001b[0m\u001b[0;34m(\u001b[0m\u001b[0msunspots\u001b[0m\u001b[0;34m[\u001b[0m\u001b[0;34m:\u001b[0m\u001b[0mcutoff\u001b[0m\u001b[0;34m]\u001b[0m\u001b[0;34m,\u001b[0m \u001b[0myears\u001b[0m\u001b[0;34m[\u001b[0m\u001b[0;34m:\u001b[0m\u001b[0mcutoff\u001b[0m\u001b[0;34m]\u001b[0m\u001b[0;34m)\u001b[0m\u001b[0;34m\u001b[0m\u001b[0m\n\u001b[0m\u001b[1;32m     32\u001b[0m \u001b[0mprint\u001b[0m\u001b[0;34m(\u001b[0m\u001b[0;34m\"Params\"\u001b[0m\u001b[0;34m,\u001b[0m \u001b[0mparams\u001b[0m\u001b[0;34m)\u001b[0m\u001b[0;34m\u001b[0m\u001b[0m\n\u001b[1;32m     33\u001b[0m \u001b[0;34m\u001b[0m\u001b[0m\n",
      "\u001b[0;31mTypeError\u001b[0m: slice indices must be integers or None or have an __index__ method"
     ]
    }
   ],
   "source": [
    "from scipy.optimize import leastsq\n",
    "import statsmodels.api as sm\n",
    "import matplotlib.pyplot as plt\n",
    "import numpy as np\n",
    "\n",
    "\n",
    "# 搭建模型\n",
    "def model(p, t):\n",
    "    C, p1, f1, phi1, p2, f2, phi2, p3, f3, phi3 = p\n",
    "    return C + p1 * np.sin(f1 * t + phi1) + p2 * np.sin(f2 * t + phi2) + p3 * np.sin(f3 * t + phi3)\n",
    "\n",
    "\n",
    "def error(p, y, t):\n",
    "    return y - model(p, t)\n",
    "\n",
    "\n",
    "# 给参数表赋值\n",
    "def fit(y, t):\n",
    "    p0 = [y.mean(), 0, 2 * np.pi / 11, 0, 0, 2 * np.pi / 22, 0, 0, 2 * np.pi / 100, 0]\n",
    "    params = leastsq(error, p0, args=(y, t))[0]\n",
    "    return params\n",
    "\n",
    "\n",
    "# 加载数据\n",
    "data_loader = sm.datasets.sunspots.load_pandas()\n",
    "sunspots = data_loader.data[\"SUNACTIVITY\"].values\n",
    "years = data_loader.data[\"YEAR\"].values\n",
    "\n",
    "# 训练模型\n",
    "cutoff = .9 * len(sunspots)\n",
    "params = fit(sunspots[:cutoff], years[:cutoff])\n",
    "print(\"Params\", params)\n",
    "\n",
    "# 取得各个指标的值\n",
    "pred = model(params, years[cutoff:])\n",
    "actual = sunspots[cutoff:]\n",
    "print(\"Root mean square error\", np.sqrt(np.mean((actual - pred) ** 2)))\n",
    "print(\"Mean absolute error\", np.mean(np.abs(actual - pred)))\n",
    "print(\"Mean absolute percentage error\", 100 * np.mean(np.abs(actual - pred) / actual))\n",
    "mid = (actual + pred) / 2\n",
    "print(\"Symmetric Mean absolute percentage error\", 100 * np.mean(np.abs(actual - pred) / mid))\n",
    "print(\"Coefficient of determination\", 1 - ((actual - pred) ** 2).sum() / ((actual - actual.mean()) ** 2).sum())\n",
    "year_range = data_loader.data[\"YEAR\"].values[cutoff:]\n",
    "\n",
    "# 绘制图形\n",
    "plt.plot(year_range, actual, 'o', label=\"Sunspots\")\n",
    "plt.plot(year_range, pred, 'x', label=\"Prediction\")\n",
    "plt.grid(True)\n",
    "plt.xlabel(\"YEAR\")\n",
    "plt.ylabel(\"SUNACTIVITY\")\n",
    "plt.legend()\n",
    "plt.show()\n"
   ]
  },
  {
   "cell_type": "code",
   "execution_count": null,
   "metadata": {},
   "outputs": [],
   "source": []
  }
 ],
 "metadata": {
  "kernelspec": {
   "display_name": "Python 3",
   "language": "python",
   "name": "python3"
  },
  "language_info": {
   "codemirror_mode": {
    "name": "ipython",
    "version": 3
   },
   "file_extension": ".py",
   "mimetype": "text/x-python",
   "name": "python",
   "nbconvert_exporter": "python",
   "pygments_lexer": "ipython3",
   "version": "3.6.5"
  }
 },
 "nbformat": 4,
 "nbformat_minor": 2
}
