{
 "cells": [
  {
   "cell_type": "code",
   "execution_count": 4,
   "metadata": {},
   "outputs": [
    {
     "name": "stdout",
     "output_type": "stream",
     "text": [
      "1 137.36324188926127\n",
      "2 105.23453356745325\n",
      "3 30.462354076251355\n",
      "4 13.755131314670274\n",
      "5 7.571819679524184\n",
      "6 4.692900928750318\n",
      "7 3.1714507219642134\n",
      "8 2.288074494937969\n",
      "9 1.7346298007856293\n",
      "10 1.3659667744204638\n",
      "11 1.107533116200788\n",
      "12 0.9192946300483881\n",
      "13 0.7778837493653024\n",
      "14 0.6690359197003952\n",
      "15 0.5836430150642115\n",
      "16 0.5142528287483737\n",
      "17 0.45672676674579926\n",
      "18 0.410522327905648\n",
      "19 0.37167325690378816\n",
      "20 0.3368919805356492\n",
      "21 0.307923987283527\n",
      "22 0.2822170664057096\n",
      "23 0.26090042676642583\n",
      "24 0.24191034852276616\n",
      "25 0.22499244343305663\n",
      "26 0.2103037694949294\n",
      "27 0.19769977095040245\n",
      "28 0.18557181797744712\n",
      "29 0.17496484949973462\n",
      "30 0.1661994387301095\n",
      "31 0.15835618856904046\n",
      "32 0.15063924650053429\n",
      "33 0.14398185215650156\n",
      "34 0.13661543966699208\n",
      "35 0.13119718801499514\n",
      "36 0.12580993021154505\n",
      "37 0.12059114693717704\n",
      "38 0.11617998557211615\n",
      "39 0.11162771762619238\n",
      "40 0.10779640697917578\n",
      "41 0.10402385086162466\n",
      "42 0.09963976969662423\n",
      "Number of ROF iterations:  42\n"
     ]
    },
    {
     "name": "stderr",
     "output_type": "stream",
     "text": [
      "/Users/castiel/.pyenv/versions/3.6.5/envs/env365/lib/python3.6/site-packages/ipykernel_launcher.py:16: DeprecationWarning: `imsave` is deprecated!\n",
      "`imsave` is deprecated in SciPy 1.0.0, and will be removed in 1.2.0.\n",
      "Use ``imageio.imwrite`` instead.\n",
      "  app.launch_new_instance()\n",
      "/Users/castiel/.pyenv/versions/3.6.5/envs/env365/lib/python3.6/site-packages/ipykernel_launcher.py:17: DeprecationWarning: `imsave` is deprecated!\n",
      "`imsave` is deprecated in SciPy 1.0.0, and will be removed in 1.2.0.\n",
      "Use ``imageio.imwrite`` instead.\n"
     ]
    }
   ],
   "source": [
    "from numpy import *\n",
    "from numpy import random\n",
    "from scipy.ndimage import filters\n",
    "import rof\n",
    "\n",
    "#使用噪声创建合成图像\n",
    "im = zeros((500,500))\n",
    "im[100:400,100:400] = 128\n",
    "im[200:300,200:300] = 255\n",
    "im = im + 30*random.standard_normal((500,500))\n",
    "\n",
    "U,T = rof.denoise(im,im)\n",
    "G = filters.gaussian_filter(im,10)\n",
    "\n",
    "from scipy.misc import imsave\n",
    "imsave('a.pdf', U)\n",
    "imsave('b.pdf', G)\n",
    "\n"
   ]
  },
  {
   "cell_type": "code",
   "execution_count": null,
   "metadata": {},
   "outputs": [],
   "source": []
  },
  {
   "cell_type": "code",
   "execution_count": null,
   "metadata": {},
   "outputs": [],
   "source": []
  }
 ],
 "metadata": {
  "kernelspec": {
   "display_name": "Python 3",
   "language": "python",
   "name": "python3"
  },
  "language_info": {
   "codemirror_mode": {
    "name": "ipython",
    "version": 3
   },
   "file_extension": ".py",
   "mimetype": "text/x-python",
   "name": "python",
   "nbconvert_exporter": "python",
   "pygments_lexer": "ipython3",
   "version": "3.6.5"
  }
 },
 "nbformat": 4,
 "nbformat_minor": 2
}
