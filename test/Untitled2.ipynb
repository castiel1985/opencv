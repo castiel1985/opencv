{
 "cells": [
  {
   "cell_type": "code",
   "execution_count": 46,
   "metadata": {},
   "outputs": [
    {
     "name": "stdout",
     "output_type": "stream",
     "text": [
      "       鱼塘：1号溶氧 主机：2016060678_溶氧仪_1 数据项：溶氧值\n",
      "1.3657                 2017-06-11 01:17:32\n",
      "1.3870                 2017-06-11 01:14:32\n",
      "1.3442                 2017-06-11 01:11:32\n",
      "1.3440                 2017-06-11 01:05:33\n",
      "1.3014                 2017-06-11 01:02:32\n",
      "1.3652                 2017-06-11 00:59:36\n",
      "1.3437                 2017-06-11 00:53:31\n",
      "**************\n",
      "['2017-06-11 00:50:31']\n",
      "**************\n"
     ]
    }
   ],
   "source": [
    "# -*- coding: utf-8 -*-  \n",
    "\n",
    "import pandas as pd\n",
    "\n",
    "a = pd.read_csv(\"a.csv\", encoding = 'gbk')\n",
    "#print(type(a))\n",
    "m = a.values\n",
    "print(a[1:8])\n",
    "print(\"**************\")\n",
    "print(m[8])\n",
    "print(\"**************\")\n",
    "#print(a)\n"
   ]
  },
  {
   "cell_type": "code",
   "execution_count": null,
   "metadata": {},
   "outputs": [],
   "source": []
  },
  {
   "cell_type": "code",
   "execution_count": null,
   "metadata": {},
   "outputs": [],
   "source": []
  }
 ],
 "metadata": {
  "kernelspec": {
   "display_name": "Python 3",
   "language": "python",
   "name": "python3"
  },
  "language_info": {
   "codemirror_mode": {
    "name": "ipython",
    "version": 3
   },
   "file_extension": ".py",
   "mimetype": "text/x-python",
   "name": "python",
   "nbconvert_exporter": "python",
   "pygments_lexer": "ipython3",
   "version": "3.6.5"
  }
 },
 "nbformat": 4,
 "nbformat_minor": 2
}
